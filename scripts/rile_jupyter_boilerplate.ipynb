{
  "nbformat": 4,
  "nbformat_minor": 0,
  "metadata": {
    "colab": {
      "name": "rile_jupyter_boilerplate",
      "provenance": [],
      "collapsed_sections": [
        "FcfNyQDIJLRf"
      ],
      "toc_visible": true
    },
    "kernelspec": {
      "name": "python3",
      "display_name": "Python 3"
    }
  },
  "cells": [
    {
      "cell_type": "markdown",
      "metadata": {
        "id": "Q3odWWO5S1w9",
        "colab_type": "text"
      },
      "source": [
        "# Notebook info"
      ]
    },
    {
      "cell_type": "markdown",
      "metadata": {
        "id": "7zNjOWjSS6I9",
        "colab_type": "text"
      },
      "source": [
        "# Package setup"
      ]
    },
    {
      "cell_type": "markdown",
      "metadata": {
        "id": "JBT0u1H2WwI6",
        "colab_type": "text"
      },
      "source": [
        "## System-level setup"
      ]
    },
    {
      "cell_type": "code",
      "metadata": {
        "id": "fP3S13mk6rIA",
        "colab_type": "code",
        "colab": {},
        "cellView": "form"
      },
      "source": [
        "#@title\n",
        "# Useful for Colab\n",
        "!pip install geopandas\n",
        "!pip install rtree\n",
        "!sudo apt-get update && apt-get install -y libspatialindex-dev\n",
        "!pip install spatiallibindex"
      ],
      "execution_count": 0,
      "outputs": []
    },
    {
      "cell_type": "code",
      "metadata": {
        "id": "odlslaW16-bg",
        "colab_type": "code",
        "colab": {},
        "cellView": "form"
      },
      "source": [
        "#@title\n",
        "# This setup is useful for Colab and other environments with pesky setup for Geopandas\n",
        "!apt-get install -qq curl g++ make\n",
        "!curl -L http://download.osgeo.org/libspatialindex/spatialindex-src-1.8.5.tar.gz | tar xz\n",
        "import os\n",
        "os.chdir('spatialindex-src-1.8.5')\n",
        "!make\n",
        "!make install\n",
        "!pip install rtree\n",
        "!ldconfig\n",
        "from rtree import index\n",
        "from rtree.index import Rtree"
      ],
      "execution_count": 0,
      "outputs": []
    },
    {
      "cell_type": "markdown",
      "metadata": {
        "id": "KG8TEuo_WuVZ",
        "colab_type": "text"
      },
      "source": [
        "## Import libraries"
      ]
    },
    {
      "cell_type": "code",
      "metadata": {
        "id": "wDezlRhiZU5x",
        "colab_type": "code",
        "colab": {}
      },
      "source": [
        "# Importing analysis libraries\n",
        "import pandas as pd\n",
        "import numpy as np\n",
        "import matplotlib.pyplot as plt\n",
        "import seaborn as sns\n",
        "import altair as alt\n",
        "\n",
        "import geopandas as gpd\n",
        "import shapely.geometry\n",
        "from shapely.geometry import Point"
      ],
      "execution_count": 0,
      "outputs": []
    },
    {
      "cell_type": "code",
      "metadata": {
        "id": "sakK_pJH7GaL",
        "colab_type": "code",
        "colab": {}
      },
      "source": [
        "import os \n",
        "import pandas as pd\n",
        "## We use pip since Colab doenst have conda\n",
        "import geopandas as gpd\n",
        "import fiona\n",
        "import matplotlib.pyplot as plt\n",
        "import seaborn as sns\n",
        "import numpy as np\n",
        "import datetime\n",
        "\n",
        "# high-performance plotting\n",
        "# import bokeh\n",
        "# from bokeh.io import output_notebook, show, output_file\n",
        "# from bokeh.plotting import figure\n",
        "# from bokeh.models import GeoJSONDataSource, LinearColorMapper, ColorBar\n",
        "# from bokeh.palettes import brewer\n",
        "# import json\n"
      ],
      "execution_count": 0,
      "outputs": []
    },
    {
      "cell_type": "code",
      "metadata": {
        "id": "M6POHdWpT_K4",
        "colab_type": "code",
        "colab": {
          "base_uri": "https://localhost:8080/",
          "height": 181
        },
        "cellView": "form",
        "outputId": "ef9929d3-6ab1-4fc1-efd9-f207715d4e83"
      },
      "source": [
        "#@title\n",
        "# PATH MANAGEMENT\n",
        "# OS-independent setup\n",
        "import os\n",
        "from pathlib import Path\n",
        "# https://docs.python.org/3/library/pathlib.html\n",
        "CWD = Path.cwd()\n",
        "HOME = Path.home()\n",
        "DATA_IN = CWD / 'data_in'\n",
        "DATA_OUT = CWD / 'data_out'\n",
        "VIZ = CWD / \"viz\"\n",
        "\n",
        "print(f\"\"\"PATH SETUP: \n",
        "---\n",
        "cwd is {CWD}\n",
        "\n",
        "Refer to these paths for IO operations:\n",
        "{HOME}\n",
        "{DATA_IN}\n",
        "{DATA_OUT}\n",
        "{VIZ}\n",
        "\"\"\")"
      ],
      "execution_count": 13,
      "outputs": [
        {
          "output_type": "stream",
          "text": [
            "PATH SETUP: \n",
            "---\n",
            "cwd is /content\n",
            "\n",
            "Refer to these paths for IO operations:\n",
            "/root\n",
            "/content/data_in\n",
            "/content/data_out\n",
            "/content/viz\n",
            "\n"
          ],
          "name": "stdout"
        }
      ]
    },
    {
      "cell_type": "markdown",
      "metadata": {
        "id": "m-x-iQNqVJno",
        "colab_type": "text"
      },
      "source": [
        "## Jupyter notebook options and viz options"
      ]
    },
    {
      "cell_type": "code",
      "metadata": {
        "id": "2GYxzqD67JpX",
        "colab_type": "code",
        "colab": {}
      },
      "source": [
        "# Options for python notebook\n",
        "pd.options.display.max_rows = 1000\n",
        "from IPython.core.interactiveshell import InteractiveShell\n",
        "InteractiveShell.ast_node_interactivity = \"all\""
      ],
      "execution_count": 0,
      "outputs": []
    },
    {
      "cell_type": "code",
      "metadata": {
        "id": "1dVzuP-zVwM-",
        "colab_type": "code",
        "colab": {}
      },
      "source": [
        "# Theming for plots + high DPI figures\n",
        "%config InlineBackend.figure_format = 'retina'\n"
      ],
      "execution_count": 0,
      "outputs": []
    },
    {
      "cell_type": "markdown",
      "metadata": {
        "colab_type": "text",
        "id": "FcfNyQDIJLRf"
      },
      "source": [
        "# Analysis"
      ]
    },
    {
      "cell_type": "markdown",
      "metadata": {
        "id": "ZEFgIMMwW4mX",
        "colab_type": "text"
      },
      "source": [
        "# Load and verify data"
      ]
    },
    {
      "cell_type": "markdown",
      "metadata": {
        "id": "mXldJfFXW6FE",
        "colab_type": "text"
      },
      "source": [
        "# Visualization"
      ]
    },
    {
      "cell_type": "code",
      "metadata": {
        "id": "m7QaWOW08Kj_",
        "colab_type": "code",
        "colab": {}
      },
      "source": [
        "df['geometry'] = list(zip(df.longitude, df.latitude))"
      ],
      "execution_count": 0,
      "outputs": []
    },
    {
      "cell_type": "code",
      "metadata": {
        "id": "YuVHbs2O-Awy",
        "colab_type": "code",
        "colab": {}
      },
      "source": [
        "%%time\n",
        "%store\n",
        "df['geometry'] = df['geometry'].apply(Point)\n",
        "gdf = gpd.GeoDataFrame(df, geometry='geometry')\n",
        "gdf.sample(4)\n",
        "print(gdf.crs)"
      ],
      "execution_count": 0,
      "outputs": []
    },
    {
      "cell_type": "code",
      "metadata": {
        "id": "Gsc6y1WY-PKW",
        "colab_type": "code",
        "colab": {}
      },
      "source": [
        "CRS_WGS = {'init': 'epsg:4326', 'no_defs': True}\n",
        "CRS_LA = {'init': 'epsg:2229'}"
      ],
      "execution_count": 0,
      "outputs": []
    },
    {
      "cell_type": "code",
      "metadata": {
        "id": "7QNfZYj9-hoP",
        "colab_type": "code",
        "colab": {}
      },
      "source": [
        "gdf.crs = CRS_WGS"
      ],
      "execution_count": 0,
      "outputs": []
    },
    {
      "cell_type": "code",
      "metadata": {
        "id": "EtSi0FXr-qdN",
        "colab_type": "code",
        "colab": {}
      },
      "source": [
        "gdf.crs"
      ],
      "execution_count": 0,
      "outputs": []
    },
    {
      "cell_type": "code",
      "metadata": {
        "id": "5b-4w5ac-r8o",
        "colab_type": "code",
        "colab": {}
      },
      "source": [
        "airbnb_crs_la = gdf.to_crs(crs=CRS_LA)"
      ],
      "execution_count": 0,
      "outputs": []
    },
    {
      "cell_type": "code",
      "metadata": {
        "id": "o9Q1e-94-2Ib",
        "colab_type": "code",
        "colab": {}
      },
      "source": [
        "gdf.plot(figsize=(10, 50), color='teal', markersize=5)\n"
      ],
      "execution_count": 0,
      "outputs": []
    },
    {
      "cell_type": "code",
      "metadata": {
        "id": "Dc9L9iUs-8Ty",
        "colab_type": "code",
        "colab": {}
      },
      "source": [
        "airbnb_crs_la.plot(figsize=(10, 50), color='pink', markersize=5)"
      ],
      "execution_count": 0,
      "outputs": []
    },
    {
      "cell_type": "code",
      "metadata": {
        "id": "wE5_pnac_GrD",
        "colab_type": "code",
        "colab": {}
      },
      "source": [
        "#neighborhoods base file\n",
        "\n",
        "neighborhoods=gpd.read_file(\"/content/drive/My Drive/Colab Notebooks/IFX_Final_HomelessnessLA/data_in/LA-Neighborhoods.geojson\")"
      ],
      "execution_count": 0,
      "outputs": []
    },
    {
      "cell_type": "code",
      "metadata": {
        "id": "LMAw3KKH_5xJ",
        "colab_type": "code",
        "colab": {}
      },
      "source": [
        "neighborhoods.crs"
      ],
      "execution_count": 0,
      "outputs": []
    },
    {
      "cell_type": "code",
      "metadata": {
        "id": "tqQP2NLp_-Ac",
        "colab_type": "code",
        "colab": {}
      },
      "source": [
        "neighborhoods_crs_la =  neighborhoods.to_crs(crs=CRS_LA)"
      ],
      "execution_count": 0,
      "outputs": []
    },
    {
      "cell_type": "code",
      "metadata": {
        "id": "YDb316cfF-cy",
        "colab_type": "code",
        "colab": {}
      },
      "source": [
        "neighborhoods_crs_la"
      ],
      "execution_count": 0,
      "outputs": []
    },
    {
      "cell_type": "code",
      "metadata": {
        "id": "93iFoq9rGCBp",
        "colab_type": "code",
        "colab": {}
      },
      "source": [
        "neighborhoods_crs_la.crs"
      ],
      "execution_count": 0,
      "outputs": []
    },
    {
      "cell_type": "code",
      "metadata": {
        "id": "kA8N71zRGFuM",
        "colab_type": "code",
        "colab": {}
      },
      "source": [
        "neighborhoods_crs_la.plot()"
      ],
      "execution_count": 0,
      "outputs": []
    },
    {
      "cell_type": "code",
      "metadata": {
        "id": "ZJeFKxnWGJBz",
        "colab_type": "code",
        "colab": {}
      },
      "source": [
        "print(f'neighborhood:{neighborhoods_crs_la.crs}, airbnb:{airbnb_crs_la.crs}')"
      ],
      "execution_count": 0,
      "outputs": []
    },
    {
      "cell_type": "code",
      "metadata": {
        "id": "QOOuJObxKL0y",
        "colab_type": "code",
        "colab": {}
      },
      "source": [
        "#43560 feet = 1 acre\n",
        "neighborhoods_crs_la['neighborhood_acres'] = neighborhoods_crs_la['geometry'].area / 43560"
      ],
      "execution_count": 0,
      "outputs": []
    },
    {
      "cell_type": "code",
      "metadata": {
        "id": "MmxEhC6QGQ21",
        "colab_type": "code",
        "colab": {}
      },
      "source": [
        "#might have to restart kernel\n",
        "%%time\n",
        "%store\n",
        "airbnb_la = gpd.sjoin(\n",
        "    airbnb_crs_la,\n",
        "    neighborhoods_crs_la,\n",
        "    how='inner')"
      ],
      "execution_count": 0,
      "outputs": []
    },
    {
      "cell_type": "code",
      "metadata": {
        "id": "Tp5qlNIoGp_O",
        "colab_type": "code",
        "colab": {}
      },
      "source": [
        "airbnb_la.head()"
      ],
      "execution_count": 0,
      "outputs": []
    },
    {
      "cell_type": "code",
      "metadata": {
        "id": "34u-JISbJjm9",
        "colab_type": "code",
        "colab": {}
      },
      "source": [
        "%%time\n",
        "%store\n",
        "## Count points in neighborhood\n",
        "point_counts = airbnb_la.groupby(['neighbourhood_left'], as_index=False).count()\n"
      ],
      "execution_count": 0,
      "outputs": []
    },
    {
      "cell_type": "code",
      "metadata": {
        "id": "RTeCYnNHNXTX",
        "colab_type": "code",
        "colab": {}
      },
      "source": [
        "point_counts.head()"
      ],
      "execution_count": 0,
      "outputs": []
    },
    {
      "cell_type": "code",
      "metadata": {
        "id": "lkv91TSAN7X6",
        "colab_type": "code",
        "colab": {}
      },
      "source": [
        ""
      ],
      "execution_count": 0,
      "outputs": []
    },
    {
      "cell_type": "code",
      "metadata": {
        "id": "vhMAhOhONZD9",
        "colab_type": "code",
        "colab": {}
      },
      "source": [
        "point_counts['points_in_neighborhood'] = point_counts['index_right']\n"
      ],
      "execution_count": 0,
      "outputs": []
    },
    {
      "cell_type": "code",
      "metadata": {
        "id": "hipVYHnUOMws",
        "colab_type": "code",
        "colab": {}
      },
      "source": [
        "# ## Join points to the original \n",
        "df2 = airbnb_la.merge(\n",
        "    point_counts[['neighbourhood_left', 'points_in_neighborhood', 'neighborhood_acres']],\n",
        "    on='neighbourhood_left'\n",
        "    ).drop(['index_right', 'neighbourhood_group', 'neighbourhood_right'], axis='columns')\n"
      ],
      "execution_count": 0,
      "outputs": []
    },
    {
      "cell_type": "code",
      "metadata": {
        "id": "Bgo_WGgKPdmE",
        "colab_type": "code",
        "colab": {}
      },
      "source": [
        ""
      ],
      "execution_count": 0,
      "outputs": []
    },
    {
      "cell_type": "code",
      "metadata": {
        "id": "w9pYaMhcOqYO",
        "colab_type": "code",
        "colab": {}
      },
      "source": [
        "df2.head()"
      ],
      "execution_count": 0,
      "outputs": []
    },
    {
      "cell_type": "code",
      "metadata": {
        "id": "s6Ee5j8wKGDK",
        "colab_type": "code",
        "colab": {}
      },
      "source": [
        "df2['units_per_area'] = df2['points_in_neighborhood'] / df2['neighborhood_acres_x']"
      ],
      "execution_count": 0,
      "outputs": []
    },
    {
      "cell_type": "code",
      "metadata": {
        "id": "e4sZoh0kOxh8",
        "colab_type": "code",
        "colab": {}
      },
      "source": [
        "df2.sort_values('units_per_area',ascending=False).head()\n",
        "summary_unit_density = df2.groupby(['neighbourhood_left'], as_index=False).mean().sort_values(['units_per_area'], ascending=False)\n"
      ],
      "execution_count": 0,
      "outputs": []
    },
    {
      "cell_type": "code",
      "metadata": {
        "id": "4wtEbl4-Pu1h",
        "colab_type": "code",
        "colab": {}
      },
      "source": [
        "summary_unit_density.head(10)"
      ],
      "execution_count": 0,
      "outputs": []
    },
    {
      "cell_type": "code",
      "metadata": {
        "id": "ThflAgMiXgGv",
        "colab_type": "code",
        "colab": {}
      },
      "source": [
        "summary_unit_density.to_csv('/content/drive/My Drive/Colab Notebooks/IFX_Final_HomelessnessLA/data_out/airbnb_density_la.csv')"
      ],
      "execution_count": 0,
      "outputs": []
    },
    {
      "cell_type": "markdown",
      "metadata": {
        "id": "WCtyA6zyIg1S",
        "colab_type": "text"
      },
      "source": [
        ""
      ]
    },
    {
      "cell_type": "markdown",
      "metadata": {
        "id": "qQhFsrasXBXG",
        "colab_type": "text"
      },
      "source": [
        "# Export/saving"
      ]
    },
    {
      "cell_type": "code",
      "metadata": {
        "id": "W-0BvzQzXDjH",
        "colab_type": "code",
        "colab": {}
      },
      "source": [
        ""
      ],
      "execution_count": 0,
      "outputs": []
    }
  ]
}