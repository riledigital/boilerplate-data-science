{
 "cells": [
  {
   "cell_type": "markdown",
   "metadata": {
    "colab_type": "text",
    "id": "Q3odWWO5S1w9"
   },
   "source": [
    "# Notebook info"
   ]
  },
  {
   "cell_type": "markdown",
   "metadata": {
    "colab_type": "text",
    "id": "7zNjOWjSS6I9"
   },
   "source": [
    "# Package setup"
   ]
  },
  {
   "cell_type": "markdown",
   "metadata": {
    "colab_type": "text",
    "id": "JBT0u1H2WwI6"
   },
   "source": [
    "## System-level setup"
   ]
  },
  {
   "cell_type": "code",
   "execution_count": 2,
   "metadata": {
    "cellView": "form",
    "colab": {},
    "colab_type": "code",
    "id": "fP3S13mk6rIA"
   },
   "outputs": [],
   "source": [
    "from __future__ import print_function\n",
    "## Flag for Colab setup\n",
    "USE_COLAB = False"
   ]
  },
  {
   "cell_type": "code",
   "execution_count": 3,
   "metadata": {
    "cellView": "form",
    "colab": {},
    "colab_type": "code",
    "id": "fP3S13mk6rIA"
   },
   "outputs": [],
   "source": [
    "#@title\n",
    "# Useful for Colab\n",
    "# !pip install geopandas\n",
    "# !pip install rtree\n",
    "# !sudo apt-get update && apt-get install -y libspatialindex-dev\n",
    "# !pip install spatiallibindex\n",
    "\n",
    "# #@title\n",
    "# # This setup is useful for Colab and other environments with pesky setup for Geopandas\n",
    "# !apt-get install -qq curl g++ make\n",
    "# !curl -L http://download.osgeo.org/libspatialindex/spatialindex-src-1.8.5.tar.gz | tar xz\n",
    "# import os\n",
    "# os.chdir('spatialindex-src-1.8.5')\n",
    "# !make\n",
    "# !make install\n",
    "# !pip install rtree\n",
    "# !ldconfig\n",
    "# from rtree import index\n",
    "# from rtree.index import Rtree"
   ]
  },
  {
   "cell_type": "code",
   "execution_count": null,
   "metadata": {
    "cellView": "form",
    "colab": {},
    "colab_type": "code",
    "id": "odlslaW16-bg"
   },
   "outputs": [],
   "source": []
  },
  {
   "cell_type": "markdown",
   "metadata": {
    "colab_type": "text",
    "id": "KG8TEuo_WuVZ"
   },
   "source": [
    "## Import libraries"
   ]
  },
  {
   "cell_type": "code",
   "execution_count": 4,
   "metadata": {
    "cellView": "form",
    "colab": {
     "base_uri": "https://localhost:8080/",
     "height": 181
    },
    "colab_type": "code",
    "id": "M6POHdWpT_K4",
    "outputId": "ef9929d3-6ab1-4fc1-efd9-f207715d4e83"
   },
   "outputs": [
    {
     "name": "stdout",
     "output_type": "stream",
     "text": [
      "PATH SETUP: \n",
      "---\n",
      "cwd is /app/scripts/..\n",
      "\n",
      "Refer to these paths for IO operations:\n",
      "HOME: /root\n",
      "DATA_IN: /app/scripts/../data_in\n",
      "DATA_OUT: /app/scripts/../data_out\n",
      "VIZ_OUT: /app/scripts/../viz\n",
      "\n"
     ]
    }
   ],
   "source": [
    "#@title\n",
    "# PATH MANAGEMENT\n",
    "# OS-independent setup\n",
    "import os\n",
    "from pathlib import Path\n",
    "\n",
    "# Usually run paths 1 folder above scripts\n",
    "CWD = Path.cwd() / '..'\n",
    "HOME = Path.home()\n",
    "\n",
    "if USE_COLAB:\n",
    "    CWD = Path(CWD / 'drive' / 'Colab Notebooks')\n",
    "    print(f\"We're running on Colab... alternative CWD: {CWD}\")\n",
    "\n",
    "DATA_IN = CWD / 'data_in'\n",
    "DATA_OUT = CWD / 'data_out'\n",
    "VIZ_OUT = CWD / \"viz\"\n",
    "\n",
    "# os.chdir(HOME / 'LocalDev' / 'data-analysis-template')\n",
    "\n",
    "print(f\"\"\"PATH SETUP: \n",
    "---\n",
    "cwd is {CWD}\n",
    "\n",
    "Refer to these paths for IO operations:\n",
    "HOME: {HOME}\n",
    "DATA_IN: {DATA_IN}\n",
    "DATA_OUT: {DATA_OUT}\n",
    "VIZ_OUT: {VIZ_OUT}\n",
    "\"\"\")"
   ]
  },
  {
   "cell_type": "code",
   "execution_count": 5,
   "metadata": {
    "colab": {},
    "colab_type": "code",
    "id": "wDezlRhiZU5x"
   },
   "outputs": [],
   "source": [
    "# Importing analysis libraries\n",
    "import datetime\n",
    "import pandas as pd\n",
    "import numpy as np\n"
   ]
  },
  {
   "cell_type": "code",
   "execution_count": 6,
   "metadata": {
    "colab": {},
    "colab_type": "code",
    "id": "wDezlRhiZU5x"
   },
   "outputs": [],
   "source": [
    "# Data Viz\n",
    "# good ol matplotlib\n",
    "import matplotlib.pyplot as plt\n",
    "# Easier mplt's\n",
    "import seaborn as sns\n",
    "\n",
    "# Vega-Lite for interactive\n",
    "\n",
    "import altair as alt\n",
    "# cache to disk,\n",
    "# https://altair-viz.github.io/user_guide/faq.html\n",
    "# alt.data_transformers.enable('json')\n",
    "# alt.data_transformers.disable_max_rows()\n",
    "\n",
    "# high-performance plotting\n",
    "# import bokeh\n",
    "# from bokeh.io import output_notebook, show, output_file\n",
    "# from bokeh.plotting import figure\n",
    "# from bokeh.models import GeoJSONDataSource, LinearColorMapper, ColorBar\n",
    "# from bokeh.palettes import brewer"
   ]
  },
  {
   "cell_type": "code",
   "execution_count": 7,
   "metadata": {
    "colab": {},
    "colab_type": "code",
    "id": "wDezlRhiZU5x"
   },
   "outputs": [],
   "source": [
    "# ML/deep learning\n",
    "# https://scikit-learn.org/stable/modules/classes.html\n",
    "import sklearn as sk\n",
    "from sklearn.preprocessing import RobustScaler, MinMaxScaler, OneHotEncoder\n",
    "from sklearn.cluster import AgglomerativeClustering, KMeans, DBSCAN\n",
    "from sklearn.model_selection import train_test_split"
   ]
  },
  {
   "cell_type": "code",
   "execution_count": 8,
   "metadata": {
    "colab": {},
    "colab_type": "code",
    "id": "wDezlRhiZU5x"
   },
   "outputs": [
    {
     "ename": "ModuleNotFoundError",
     "evalue": "No module named 'statsmodels'",
     "output_type": "error",
     "traceback": [
      "\u001b[0;31m---------------------------------------------------------------------------\u001b[0m",
      "\u001b[0;31mModuleNotFoundError\u001b[0m                       Traceback (most recent call last)",
      "\u001b[0;32m<ipython-input-8-b1a2af47befc>\u001b[0m in \u001b[0;36m<module>\u001b[0;34m\u001b[0m\n\u001b[0;32m----> 1\u001b[0;31m \u001b[0;32mimport\u001b[0m \u001b[0mstatsmodels\u001b[0m \u001b[0;32mas\u001b[0m \u001b[0msm\u001b[0m\u001b[0;34m\u001b[0m\u001b[0;34m\u001b[0m\u001b[0m\n\u001b[0m\u001b[1;32m      2\u001b[0m \u001b[0;31m## For specifying models\u001b[0m\u001b[0;34m\u001b[0m\u001b[0;34m\u001b[0m\u001b[0;34m\u001b[0m\u001b[0m\n\u001b[1;32m      3\u001b[0m \u001b[0;32mimport\u001b[0m \u001b[0mpatsy\u001b[0m\u001b[0;34m\u001b[0m\u001b[0;34m\u001b[0m\u001b[0m\n\u001b[1;32m      4\u001b[0m \u001b[0;32mfrom\u001b[0m \u001b[0mpatsy\u001b[0m \u001b[0;32mimport\u001b[0m \u001b[0mdmatrix\u001b[0m\u001b[0;34m\u001b[0m\u001b[0;34m\u001b[0m\u001b[0m\n\u001b[1;32m      5\u001b[0m \u001b[0;31m# import hdbscan\u001b[0m\u001b[0;34m\u001b[0m\u001b[0;34m\u001b[0m\u001b[0;34m\u001b[0m\u001b[0m\n",
      "\u001b[0;31mModuleNotFoundError\u001b[0m: No module named 'statsmodels'"
     ]
    }
   ],
   "source": [
    "import statsmodels as sm\n",
    "## For specifying models\n",
    "import patsy\n",
    "from patsy import dmatrix\n",
    "# import hdbscan"
   ]
  },
  {
   "cell_type": "code",
   "execution_count": 9,
   "metadata": {
    "colab": {},
    "colab_type": "code",
    "id": "wDezlRhiZU5x"
   },
   "outputs": [],
   "source": [
    "# from keras.models import Sequential\n",
    "# from keras import layers"
   ]
  },
  {
   "cell_type": "code",
   "execution_count": 10,
   "metadata": {
    "colab": {},
    "colab_type": "code",
    "id": "wDezlRhiZU5x"
   },
   "outputs": [],
   "source": [
    "## INTERACTIVE WIDGETS :-)\n",
    "from ipywidgets import interact, interactive, fixed, interact_manual\n",
    "import ipywidgets as widgets"
   ]
  },
  {
   "cell_type": "code",
   "execution_count": 11,
   "metadata": {
    "colab": {},
    "colab_type": "code",
    "id": "wDezlRhiZU5x"
   },
   "outputs": [],
   "source": [
    "# Geospatial stuff\n",
    "# GIS\n",
    "import geopandas as gpd\n",
    "import fiona\n",
    "import shapely.geometry\n",
    "from shapely.geometry import Point\n",
    "# import keplergl"
   ]
  },
  {
   "cell_type": "code",
   "execution_count": 12,
   "metadata": {
    "colab": {},
    "colab_type": "code",
    "id": "sakK_pJH7GaL"
   },
   "outputs": [
    {
     "data": {
      "text/plain": [
       "'Key=1231&Key2=stringyone'"
      ]
     },
     "execution_count": 12,
     "metadata": {},
     "output_type": "execute_result"
    }
   ],
   "source": [
    "## URL parsing made EZ and OO-style\n",
    "import urllib\n",
    "from urllib.parse import urlparse\n",
    "from urllib.parse import urlencode\n",
    "import requests\n",
    "\n",
    "# Web/data input libraries\n",
    "import json\n",
    "\n",
    "## For connections to PostgreSQL\n",
    "# import psycopg2\n",
    "\n",
    "### EXAMPLE \n",
    "# Encode params to a dictionary\n",
    "params = {\n",
    "    'Key': 1231,\n",
    "    \"Key2\" : \"stringyone\"\n",
    "}\n",
    "urlencode(params)"
   ]
  },
  {
   "attachments": {
    "Le_Ri_Assignment08.ipynb": {}
   },
   "cell_type": "markdown",
   "metadata": {
    "colab_type": "text",
    "id": "m-x-iQNqVJno"
   },
   "source": [
    "## Jupyter notebook options and viz options![Le_Ri_Assignment08.ipynb](attachment:Le_Ri_Assignment08.ipynb)"
   ]
  },
  {
   "cell_type": "code",
   "execution_count": 13,
   "metadata": {
    "colab": {},
    "colab_type": "code",
    "id": "2GYxzqD67JpX"
   },
   "outputs": [],
   "source": [
    "# Options for python notebook\n",
    "from IPython.core.interactiveshell import InteractiveShell\n",
    "InteractiveShell.ast_node_interactivity = \"all\"\n",
    "\n",
    "pd.set_option(\"display.max_rows\", 100)\n",
    "pd.set_option(\"display.max_columns\", 100)\n",
    "np.set_printoptions(precision=3, suppress=True)"
   ]
  },
  {
   "cell_type": "code",
   "execution_count": 14,
   "metadata": {
    "colab": {},
    "colab_type": "code",
    "id": "1dVzuP-zVwM-"
   },
   "outputs": [],
   "source": [
    "# Theming for plots + high DPI figures\n",
    "%matplotlib inline\n",
    "%config InlineBackend.figure_format = 'retina'\n"
   ]
  },
  {
   "cell_type": "markdown",
   "metadata": {
    "colab_type": "text",
    "id": "FcfNyQDIJLRf"
   },
   "source": [
    "# Analysis"
   ]
  },
  {
   "cell_type": "markdown",
   "metadata": {
    "colab_type": "text",
    "id": "ZEFgIMMwW4mX"
   },
   "source": [
    "# Load and verify data"
   ]
  },
  {
   "cell_type": "code",
   "execution_count": 15,
   "metadata": {},
   "outputs": [],
   "source": [
    "# # Get a URL for county-level shapefile!\n",
    "# # us.states.NY.shapefile_urls()['county']\n",
    "# import zipfile\n",
    "# def getZipFile(url):\n",
    "#     from urllib.request import urlopen\n",
    "#     from zipfile import ZipFile\n",
    "#     zipurl = 'Valid URL to zip file'\n",
    "#         # Download the file from the URL\n",
    "#     zipresp = urlopen(url)\n",
    "#         # Create a new file on the hard drive\n",
    "#     tempzip = open(DATA_IN / \"tempfile.zip\", \"wb\")\n",
    "#         # Write the contents of the downloaded file into the new file\n",
    "#     tempzip.write(zipresp.read())\n",
    "#         # Close the newly-created file\n",
    "#     tempzip.close()\n",
    "#         # Re-open the newly-created file with ZipFile()\n",
    "#     zf = ZipFile(DATA_IN / \"tempfile.zip\")\n",
    "#         # Extract its contents into <extraction_path>\n",
    "#         # note that extractall will automatically create the path\n",
    "#     zf.extractall(path = CWD / 'temp')\n",
    "#         # close the ZipFile instance\n",
    "#     zf.close()\n",
    "# getZipFile(us.states.NY.shapefile_urls()['county'])"
   ]
  },
  {
   "cell_type": "code",
   "execution_count": 16,
   "metadata": {},
   "outputs": [],
   "source": [
    "# Helper function to clean column names :-)\n",
    "# https://medium.com/@chaimgluck1/working-with-pandas-fixing-messy-column-names-42a54a6659cd\n",
    "def clean_column_names(df:pd.DataFrame)->pd.DataFrame:\n",
    "    df.columns = df.columns.str.strip().str.lower().str.replace(' ', '_').str.replace('(', '').str.replace(')', '')\n",
    "    return df"
   ]
  },
  {
   "cell_type": "markdown",
   "metadata": {
    "colab_type": "text",
    "id": "mXldJfFXW6FE"
   },
   "source": [
    "# Visualization"
   ]
  },
  {
   "cell_type": "code",
   "execution_count": 17,
   "metadata": {
    "colab": {},
    "colab_type": "code",
    "id": "W-0BvzQzXDjH"
   },
   "outputs": [
    {
     "data": {
      "text/plain": [
       "[<matplotlib.lines.Line2D at 0x7f7d5f029910>,\n",
       " <matplotlib.lines.Line2D at 0x7f7d5f029a00>]"
      ]
     },
     "execution_count": 17,
     "metadata": {},
     "output_type": "execute_result"
    },
    {
     "data": {
      "text/plain": [
       "(0.0, 2.0)"
      ]
     },
     "execution_count": 17,
     "metadata": {},
     "output_type": "execute_result"
    },
    {
     "data": {
      "text/plain": [
       "Text(0.5, 0, 'time')"
      ]
     },
     "execution_count": 17,
     "metadata": {},
     "output_type": "execute_result"
    },
    {
     "data": {
      "text/plain": [
       "Text(0, 0.5, 's1 and s2')"
      ]
     },
     "execution_count": 17,
     "metadata": {},
     "output_type": "execute_result"
    },
    {
     "data": {
      "text/plain": [
       "Text(0, 0.5, 'coherence')"
      ]
     },
     "execution_count": 17,
     "metadata": {},
     "output_type": "execute_result"
    },
    {
     "data": {
      "image/png": "[encoded data removed]",
      "text/plain": [
       "<Figure size 432x288 with 2 Axes>"
      ]
     },
     "metadata": {
      "image/png": {
       "height": 279,
       "width": 424
      },
      "needs_background": "light"
     },
     "output_type": "display_data"
    }
   ],
   "source": [
    "\n",
    "# Fixing random state for reproducibility\n",
    "np.random.seed(19680801)\n",
    "\n",
    "dt = 0.01\n",
    "t = np.arange(0, 30, dt)\n",
    "nse1 = np.random.randn(len(t))                 # white noise 1\n",
    "nse2 = np.random.randn(len(t))                 # white noise 2\n",
    "\n",
    "# Two signals with a coherent part at 10Hz and a random part\n",
    "s1 = np.sin(2 * np.pi * 10 * t) + nse1\n",
    "s2 = np.sin(2 * np.pi * 10 * t) + nse2\n",
    "\n",
    "fig, axs = plt.subplots(2, 1)\n",
    "axs[0].plot(t, s1, t, s2)\n",
    "axs[0].set_xlim(0, 2)\n",
    "axs[0].set_xlabel('time')\n",
    "axs[0].set_ylabel('s1 and s2')\n",
    "axs[0].grid(True)\n",
    "\n",
    "cxy, f = axs[1].cohere(s1, s2, 256, 1. / dt)\n",
    "axs[1].set_ylabel('coherence')\n",
    "\n",
    "fig.tight_layout()\n",
    "plt.show()"
   ]
  },
  {
   "cell_type": "code",
   "execution_count": null,
   "metadata": {},
   "outputs": [],
   "source": []
  },
  {
   "cell_type": "code",
   "execution_count": null,
   "metadata": {},
   "outputs": [],
   "source": []
  },
  {
   "cell_type": "code",
   "execution_count": null,
   "metadata": {},
   "outputs": [],
   "source": []
  },
  {
   "cell_type": "code",
   "execution_count": null,
   "metadata": {},
   "outputs": [],
   "source": []
  },
  {
   "cell_type": "code",
   "execution_count": null,
   "metadata": {},
   "outputs": [],
   "source": []
  },
  {
   "cell_type": "code",
   "execution_count": null,
   "metadata": {},
   "outputs": [],
   "source": []
  },
  {
   "cell_type": "code",
   "execution_count": null,
   "metadata": {},
   "outputs": [],
   "source": []
  },
  {
   "cell_type": "code",
   "execution_count": null,
   "metadata": {},
   "outputs": [],
   "source": []
  },
  {
   "cell_type": "code",
   "execution_count": null,
   "metadata": {},
   "outputs": [],
   "source": []
  },
  {
   "cell_type": "code",
   "execution_count": null,
   "metadata": {},
   "outputs": [],
   "source": []
  },
  {
   "cell_type": "code",
   "execution_count": null,
   "metadata": {},
   "outputs": [],
   "source": []
  },
  {
   "cell_type": "code",
   "execution_count": null,
   "metadata": {},
   "outputs": [],
   "source": []
  },
  {
   "cell_type": "code",
   "execution_count": null,
   "metadata": {},
   "outputs": [],
   "source": []
  },
  {
   "cell_type": "code",
   "execution_count": null,
   "metadata": {},
   "outputs": [],
   "source": []
  },
  {
   "cell_type": "code",
   "execution_count": null,
   "metadata": {},
   "outputs": [],
   "source": []
  }
 ],
 "metadata": {
  "colab": {
   "collapsed_sections": [
    "FcfNyQDIJLRf"
   ],
   "name": "rile_jupyter_boilerplate",
   "provenance": [],
   "toc_visible": true
  },
  "kernelspec": {
   "display_name": "Python 3",
   "language": "python",
   "name": "python3"
  },
  "language_info": {
   "codemirror_mode": {
    "name": "ipython",
    "version": 3
   },
   "file_extension": ".py",
   "mimetype": "text/x-python",
   "name": "python",
   "nbconvert_exporter": "python",
   "pygments_lexer": "ipython3",
   "version": "3.8.8"
  },
  "widgets": {
   "application/vnd.jupyter.widget-state+json": {
    "state": {},
    "version_major": 2,
    "version_minor": 0
   }
  }
 },
 "nbformat": 4,
 "nbformat_minor": 4
}
