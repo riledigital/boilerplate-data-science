{
 "cells": [
  {
   "cell_type": "markdown",
   "metadata": {
    "colab_type": "text",
    "id": "Q3odWWO5S1w9"
   },
   "source": [
    "# Notebook info"
   ]
  },
  {
   "cell_type": "markdown",
   "metadata": {
    "colab_type": "text",
    "id": "7zNjOWjSS6I9"
   },
   "source": [
    "# Package setup"
   ]
  },
  {
   "cell_type": "markdown",
   "metadata": {
    "colab_type": "text",
    "id": "JBT0u1H2WwI6"
   },
   "source": [
    "## System-level setup"
   ]
  },
  {
   "cell_type": "code",
   "execution_count": null,
   "metadata": {
    "cellView": "form",
    "colab": {},
    "colab_type": "code",
    "id": "fP3S13mk6rIA",
    "jupyter": {
     "source_hidden": true
    }
   },
   "outputs": [],
   "source": [
    "#@title\n",
    "# Useful for Colab\n",
    "# !pip install geopandas\n",
    "# !pip install rtree\n",
    "# !sudo apt-get update && apt-get install -y libspatialindex-dev\n",
    "# !pip install spatiallibindex"
   ]
  },
  {
   "cell_type": "code",
   "execution_count": 62,
   "metadata": {
    "cellView": "form",
    "colab": {},
    "colab_type": "code",
    "id": "odlslaW16-bg",
    "jupyter": {
     "source_hidden": true
    }
   },
   "outputs": [],
   "source": [
    "# #@title\n",
    "# # This setup is useful for Colab and other environments with pesky setup for Geopandas\n",
    "# !apt-get install -qq curl g++ make\n",
    "# !curl -L http://download.osgeo.org/libspatialindex/spatialindex-src-1.8.5.tar.gz | tar xz\n",
    "# import os\n",
    "# os.chdir('spatialindex-src-1.8.5')\n",
    "# !make\n",
    "# !make install\n",
    "# !pip install rtree\n",
    "# !ldconfig\n",
    "# from rtree import index\n",
    "# from rtree.index import Rtree"
   ]
  },
  {
   "cell_type": "markdown",
   "metadata": {
    "colab_type": "text",
    "id": "KG8TEuo_WuVZ"
   },
   "source": [
    "## Import libraries"
   ]
  },
  {
   "cell_type": "code",
   "execution_count": 63,
   "metadata": {
    "cellView": "form",
    "colab": {
     "base_uri": "https://localhost:8080/",
     "height": 181
    },
    "colab_type": "code",
    "id": "M6POHdWpT_K4",
    "outputId": "ef9929d3-6ab1-4fc1-efd9-f207715d4e83"
   },
   "outputs": [
    {
     "name": "stdout",
     "output_type": "stream",
     "text": [
      "PATH SETUP: \n",
      "---\n",
      "cwd is /Users/riledigital/LocalDev/data-analysis-template\n",
      "\n",
      "Refer to these paths for IO operations:\n",
      "HOME: /Users/riledigital\n",
      "DATA_IN: /Users/riledigital/LocalDev/data-analysis-template/data_in\n",
      "DATA_OUT: /Users/riledigital/LocalDev/data-analysis-template/data_out\n",
      "VIZ_OUT: /Users/riledigital/LocalDev/data-analysis-template/viz\n",
      "\n"
     ]
    }
   ],
   "source": [
    "#@title\n",
    "# PATH MANAGEMENT\n",
    "# OS-independent setup\n",
    "import os\n",
    "from pathlib import Path\n",
    "# https://docs.python.org/3/library/pathlib.html\n",
    "CWD = Path.cwd()\n",
    "HOME = Path.home()\n",
    "\n",
    "if USE_COLAB:\n",
    "    CWD = Path(CWD / 'drive' / 'Colab Notebooks')\n",
    "    print(f\"We're running on Colab... alternative CWD: {CWD}\")\n",
    "\n",
    "DATA_IN = CWD / 'data_in'\n",
    "DATA_OUT = CWD / 'data_out'\n",
    "VIZ_OUT = CWD / \"viz\"\n",
    "\n",
    "# os.chdir(HOME / 'LocalDev' / 'data-analysis-template')\n",
    "\n",
    "print(f\"\"\"PATH SETUP: \n",
    "---\n",
    "cwd is {CWD}\n",
    "\n",
    "Refer to these paths for IO operations:\n",
    "HOME: {HOME}\n",
    "DATA_IN: {DATA_IN}\n",
    "DATA_OUT: {DATA_OUT}\n",
    "VIZ_OUT: {VIZ_OUT}\n",
    "\"\"\")"
   ]
  },
  {
   "cell_type": "code",
   "execution_count": null,
   "metadata": {
    "colab": {},
    "colab_type": "code",
    "id": "wDezlRhiZU5x"
   },
   "outputs": [],
   "source": [
    "# Importing analysis libraries\n",
    "import datetime\n",
    "import pandas as pd\n",
    "import numpy as np"
   ]
  },
  {
   "cell_type": "code",
   "execution_count": null,
   "metadata": {
    "colab": {},
    "colab_type": "code",
    "id": "wDezlRhiZU5x"
   },
   "outputs": [],
   "source": [
    "# Data Viz\n",
    "# good ol matplotlib\n",
    "import matplotlib.pyplot as plt\n",
    "# Easier mplt's\n",
    "import seaborn as sns\n",
    "# Vega-Lite for interactive\n",
    "import altair as alt\n",
    "\n",
    "# high-performance plotting\n",
    "# import bokeh\n",
    "# from bokeh.io import output_notebook, show, output_file\n",
    "# from bokeh.plotting import figure\n",
    "# from bokeh.models import GeoJSONDataSource, LinearColorMapper, ColorBar\n",
    "# from bokeh.palettes import brewer\n",
    "# import json"
   ]
  },
  {
   "cell_type": "code",
   "execution_count": null,
   "metadata": {
    "colab": {},
    "colab_type": "code",
    "id": "wDezlRhiZU5x"
   },
   "outputs": [],
   "source": [
    "# ML/deep learning\n",
    "import sklearn as sk\n",
    "# from keras.models import Sequential\n",
    "# from keras import layers"
   ]
  },
  {
   "cell_type": "code",
   "execution_count": null,
   "metadata": {
    "colab": {},
    "colab_type": "code",
    "id": "wDezlRhiZU5x"
   },
   "outputs": [],
   "source": [
    "# Geospatial stuff\n",
    "# GIS\n",
    "import geopandas as gpd\n",
    "import fiona\n",
    "import shapely.geometry\n",
    "from shapely.geometry import Point"
   ]
  },
  {
   "cell_type": "markdown",
   "metadata": {
    "colab_type": "text",
    "id": "m-x-iQNqVJno"
   },
   "source": [
    "## Jupyter notebook options and viz options"
   ]
  },
  {
   "cell_type": "code",
   "execution_count": 59,
   "metadata": {
    "colab": {},
    "colab_type": "code",
    "id": "2GYxzqD67JpX",
    "jupyter": {
     "source_hidden": true
    }
   },
   "outputs": [],
   "source": [
    "# Options for python notebook\n",
    "pd.options.display.max_rows = 1000\n",
    "from IPython.core.interactiveshell import InteractiveShell\n",
    "InteractiveShell.ast_node_interactivity = \"all\""
   ]
  },
  {
   "cell_type": "code",
   "execution_count": 60,
   "metadata": {
    "colab": {},
    "colab_type": "code",
    "id": "1dVzuP-zVwM-",
    "jupyter": {
     "source_hidden": true
    }
   },
   "outputs": [],
   "source": [
    "# Theming for plots + high DPI figures\n",
    "%config InlineBackend.figure_format = 'retina'\n"
   ]
  },
  {
   "cell_type": "markdown",
   "metadata": {
    "colab_type": "text",
    "id": "FcfNyQDIJLRf"
   },
   "source": [
    "# Analysis"
   ]
  },
  {
   "cell_type": "markdown",
   "metadata": {
    "colab_type": "text",
    "id": "ZEFgIMMwW4mX"
   },
   "source": [
    "# Load and verify data"
   ]
  },
  {
   "cell_type": "code",
   "execution_count": 61,
   "metadata": {
    "colab": {},
    "colab_type": "code",
    "id": "sakK_pJH7GaL"
   },
   "outputs": [],
   "source": [
    "## URL parsing made EZ and OO-style\n",
    "import urllib\n",
    "import urllib.parse as up\n",
    "import requests\n",
    "\n",
    "# Web/data input libraries\n",
    "import json\n",
    "\n",
    "## For connections to PostgreSQL\n",
    "# import psycopg2\n"
   ]
  },
  {
   "cell_type": "code",
   "execution_count": 58,
   "metadata": {
    "jupyter": {
     "source_hidden": true
    }
   },
   "outputs": [
    {
     "data": {
      "text/html": [
       "<div>\n",
       "<style scoped>\n",
       "    .dataframe tbody tr th:only-of-type {\n",
       "        vertical-align: middle;\n",
       "    }\n",
       "\n",
       "    .dataframe tbody tr th {\n",
       "        vertical-align: top;\n",
       "    }\n",
       "\n",
       "    .dataframe thead th {\n",
       "        text-align: right;\n",
       "    }\n",
       "</style>\n",
       "<table border=\"1\" class=\"dataframe\">\n",
       "  <thead>\n",
       "    <tr style=\"text-align: right;\">\n",
       "      <th></th>\n",
       "      <th>NAME</th>\n",
       "      <th>B25034_010E</th>\n",
       "      <th>state</th>\n",
       "    </tr>\n",
       "  </thead>\n",
       "  <tbody>\n",
       "    <tr>\n",
       "      <th>0</th>\n",
       "      <td>Maryland</td>\n",
       "      <td>129556.0</td>\n",
       "      <td>24</td>\n",
       "    </tr>\n",
       "  </tbody>\n",
       "</table>\n",
       "</div>"
      ],
      "text/plain": [
       "       NAME  B25034_010E state\n",
       "0  Maryland     129556.0    24"
      ]
     },
     "execution_count": 58,
     "metadata": {},
     "output_type": "execute_result"
    }
   ],
   "source": [
    "## US library for working with Census\n",
    "import us\n",
    "import census\n",
    "from census import Census\n",
    "c = Census(os.getenv(\"CENSUS_SECRET\"))\n",
    "# Lookup the specific table in Census API \n",
    "myList = c.acs5.get(('NAME', 'B25034_010E'),\n",
    "          {'for': 'state:{}'.format(us.states.MD.fips)})\n",
    "\n",
    "# Input data can be turned into a df\n",
    "pd.DataFrame(myList)"
   ]
  },
  {
   "cell_type": "code",
   "execution_count": 1,
   "metadata": {},
   "outputs": [],
   "source": [
    "# # Get a URL for county-level shapefile!\n",
    "# # us.states.NY.shapefile_urls()['county']\n",
    "# import zipfile\n",
    "# def getZipFile(url):\n",
    "#     from urllib.request import urlopen\n",
    "#     from zipfile import ZipFile\n",
    "#     zipurl = 'Valid URL to zip file'\n",
    "#         # Download the file from the URL\n",
    "#     zipresp = urlopen(url)\n",
    "#         # Create a new file on the hard drive\n",
    "#     tempzip = open(DATA_IN / \"tempfile.zip\", \"wb\")\n",
    "#         # Write the contents of the downloaded file into the new file\n",
    "#     tempzip.write(zipresp.read())\n",
    "#         # Close the newly-created file\n",
    "#     tempzip.close()\n",
    "#         # Re-open the newly-created file with ZipFile()\n",
    "#     zf = ZipFile(DATA_IN / \"tempfile.zip\")\n",
    "#         # Extract its contents into <extraction_path>\n",
    "#         # note that extractall will automatically create the path\n",
    "#     zf.extractall(path = CWD / 'temp')\n",
    "#         # close the ZipFile instance\n",
    "#     zf.close()\n",
    "# getZipFile(us.states.NY.shapefile_urls()['county'])"
   ]
  },
  {
   "cell_type": "code",
   "execution_count": null,
   "metadata": {},
   "outputs": [],
   "source": [
    "# Helper function to clean column names :-)\n",
    "# https://medium.com/@chaimgluck1/working-with-pandas-fixing-messy-column-names-42a54a6659cd\n",
    "def clean_column_names(dataframe:DataFrame)->DataFrame:\n",
    "\n",
    "# df.columns = df.columns.str.strip().str.lower().str.replace(' ', '_').str.replace('(', '').str.replace(')', '')"
   ]
  },
  {
   "cell_type": "markdown",
   "metadata": {
    "colab_type": "text",
    "id": "mXldJfFXW6FE"
   },
   "source": [
    "# Visualization"
   ]
  },
  {
   "cell_type": "code",
   "execution_count": null,
   "metadata": {
    "colab": {},
    "colab_type": "code",
    "id": "m7QaWOW08Kj_",
    "jupyter": {
     "source_hidden": true
    }
   },
   "outputs": [],
   "source": [
    "df['geometry'] = list(zip(df.longitude, df.latitude))"
   ]
  },
  {
   "cell_type": "code",
   "execution_count": null,
   "metadata": {
    "colab": {},
    "colab_type": "code",
    "id": "YuVHbs2O-Awy",
    "jupyter": {
     "source_hidden": true
    }
   },
   "outputs": [],
   "source": [
    "%%time\n",
    "%store\n",
    "df['geometry'] = df['geometry'].apply(Point)\n",
    "gdf = gpd.GeoDataFrame(df, geometry='geometry')\n",
    "gdf.sample(4)\n",
    "print(gdf.crs)"
   ]
  },
  {
   "cell_type": "code",
   "execution_count": null,
   "metadata": {
    "colab": {},
    "colab_type": "code",
    "id": "Gsc6y1WY-PKW",
    "jupyter": {
     "source_hidden": true
    }
   },
   "outputs": [],
   "source": [
    "CRS_WGS = {'init': 'epsg:4326', 'no_defs': True}\n",
    "CRS_LA = {'init': 'epsg:2229'}"
   ]
  },
  {
   "cell_type": "code",
   "execution_count": null,
   "metadata": {
    "colab": {},
    "colab_type": "code",
    "id": "7QNfZYj9-hoP",
    "jupyter": {
     "source_hidden": true
    }
   },
   "outputs": [],
   "source": [
    "gdf.crs = CRS_WGS"
   ]
  },
  {
   "cell_type": "code",
   "execution_count": null,
   "metadata": {
    "colab": {},
    "colab_type": "code",
    "id": "EtSi0FXr-qdN",
    "jupyter": {
     "source_hidden": true
    }
   },
   "outputs": [],
   "source": [
    "gdf.crs"
   ]
  },
  {
   "cell_type": "code",
   "execution_count": null,
   "metadata": {
    "colab": {},
    "colab_type": "code",
    "id": "5b-4w5ac-r8o",
    "jupyter": {
     "source_hidden": true
    }
   },
   "outputs": [],
   "source": [
    "airbnb_crs_la = gdf.to_crs(crs=CRS_LA)"
   ]
  },
  {
   "cell_type": "code",
   "execution_count": null,
   "metadata": {
    "colab": {},
    "colab_type": "code",
    "id": "o9Q1e-94-2Ib",
    "jupyter": {
     "source_hidden": true
    }
   },
   "outputs": [],
   "source": [
    "gdf.plot(figsize=(10, 50), color='teal', markersize=5)\n"
   ]
  },
  {
   "cell_type": "code",
   "execution_count": null,
   "metadata": {
    "colab": {},
    "colab_type": "code",
    "id": "Dc9L9iUs-8Ty",
    "jupyter": {
     "source_hidden": true
    }
   },
   "outputs": [],
   "source": [
    "airbnb_crs_la.plot(figsize=(10, 50), color='pink', markersize=5)"
   ]
  },
  {
   "cell_type": "code",
   "execution_count": null,
   "metadata": {
    "colab": {},
    "colab_type": "code",
    "id": "wE5_pnac_GrD",
    "jupyter": {
     "source_hidden": true
    }
   },
   "outputs": [],
   "source": [
    "#neighborhoods base file\n",
    "\n",
    "neighborhoods=gpd.read_file(\"/content/drive/My Drive/Colab Notebooks/IFX_Final_HomelessnessLA/data_in/LA-Neighborhoods.geojson\")"
   ]
  },
  {
   "cell_type": "code",
   "execution_count": null,
   "metadata": {
    "colab": {},
    "colab_type": "code",
    "id": "LMAw3KKH_5xJ",
    "jupyter": {
     "source_hidden": true
    }
   },
   "outputs": [],
   "source": [
    "neighborhoods.crs"
   ]
  },
  {
   "cell_type": "code",
   "execution_count": null,
   "metadata": {
    "colab": {},
    "colab_type": "code",
    "id": "tqQP2NLp_-Ac",
    "jupyter": {
     "source_hidden": true
    }
   },
   "outputs": [],
   "source": [
    "neighborhoods_crs_la =  neighborhoods.to_crs(crs=CRS_LA)"
   ]
  },
  {
   "cell_type": "code",
   "execution_count": null,
   "metadata": {
    "colab": {},
    "colab_type": "code",
    "id": "YDb316cfF-cy",
    "jupyter": {
     "source_hidden": true
    }
   },
   "outputs": [],
   "source": [
    "neighborhoods_crs_la"
   ]
  },
  {
   "cell_type": "code",
   "execution_count": null,
   "metadata": {
    "colab": {},
    "colab_type": "code",
    "id": "93iFoq9rGCBp",
    "jupyter": {
     "source_hidden": true
    }
   },
   "outputs": [],
   "source": [
    "neighborhoods_crs_la.crs"
   ]
  },
  {
   "cell_type": "code",
   "execution_count": null,
   "metadata": {
    "colab": {},
    "colab_type": "code",
    "id": "kA8N71zRGFuM",
    "jupyter": {
     "source_hidden": true
    }
   },
   "outputs": [],
   "source": [
    "neighborhoods_crs_la.plot()"
   ]
  },
  {
   "cell_type": "code",
   "execution_count": null,
   "metadata": {
    "colab": {},
    "colab_type": "code",
    "id": "ZJeFKxnWGJBz",
    "jupyter": {
     "source_hidden": true
    }
   },
   "outputs": [],
   "source": [
    "print(f'neighborhood:{neighborhoods_crs_la.crs}, airbnb:{airbnb_crs_la.crs}')"
   ]
  },
  {
   "cell_type": "code",
   "execution_count": null,
   "metadata": {
    "colab": {},
    "colab_type": "code",
    "id": "QOOuJObxKL0y",
    "jupyter": {
     "source_hidden": true
    }
   },
   "outputs": [],
   "source": [
    "#43560 feet = 1 acre\n",
    "neighborhoods_crs_la['neighborhood_acres'] = neighborhoods_crs_la['geometry'].area / 43560"
   ]
  },
  {
   "cell_type": "code",
   "execution_count": null,
   "metadata": {
    "colab": {},
    "colab_type": "code",
    "id": "MmxEhC6QGQ21",
    "jupyter": {
     "source_hidden": true
    }
   },
   "outputs": [],
   "source": [
    "#might have to restart kernel\n",
    "%%time\n",
    "%store\n",
    "airbnb_la = gpd.sjoin(\n",
    "    airbnb_crs_la,\n",
    "    neighborhoods_crs_la,\n",
    "    how='inner')"
   ]
  },
  {
   "cell_type": "code",
   "execution_count": null,
   "metadata": {
    "colab": {},
    "colab_type": "code",
    "id": "Tp5qlNIoGp_O",
    "jupyter": {
     "source_hidden": true
    }
   },
   "outputs": [],
   "source": [
    "airbnb_la.head()"
   ]
  },
  {
   "cell_type": "code",
   "execution_count": null,
   "metadata": {
    "colab": {},
    "colab_type": "code",
    "id": "34u-JISbJjm9",
    "jupyter": {
     "source_hidden": true
    }
   },
   "outputs": [],
   "source": [
    "%%time\n",
    "%store\n",
    "## Count points in neighborhood\n",
    "point_counts = airbnb_la.groupby(['neighbourhood_left'], as_index=False).count()\n"
   ]
  },
  {
   "cell_type": "code",
   "execution_count": null,
   "metadata": {
    "colab": {},
    "colab_type": "code",
    "id": "RTeCYnNHNXTX",
    "jupyter": {
     "source_hidden": true
    }
   },
   "outputs": [],
   "source": [
    "point_counts.head()"
   ]
  },
  {
   "cell_type": "code",
   "execution_count": null,
   "metadata": {
    "colab": {},
    "colab_type": "code",
    "id": "lkv91TSAN7X6",
    "jupyter": {
     "source_hidden": true
    }
   },
   "outputs": [],
   "source": []
  },
  {
   "cell_type": "code",
   "execution_count": null,
   "metadata": {
    "colab": {},
    "colab_type": "code",
    "id": "vhMAhOhONZD9",
    "jupyter": {
     "source_hidden": true
    }
   },
   "outputs": [],
   "source": [
    "point_counts['points_in_neighborhood'] = point_counts['index_right']\n"
   ]
  },
  {
   "cell_type": "code",
   "execution_count": null,
   "metadata": {
    "colab": {},
    "colab_type": "code",
    "id": "hipVYHnUOMws",
    "jupyter": {
     "source_hidden": true
    }
   },
   "outputs": [],
   "source": [
    "# ## Join points to the original \n",
    "df2 = airbnb_la.merge(\n",
    "    point_counts[['neighbourhood_left', 'points_in_neighborhood', 'neighborhood_acres']],\n",
    "    on='neighbourhood_left'\n",
    "    ).drop(['index_right', 'neighbourhood_group', 'neighbourhood_right'], axis='columns')\n"
   ]
  },
  {
   "cell_type": "code",
   "execution_count": null,
   "metadata": {
    "colab": {},
    "colab_type": "code",
    "id": "Bgo_WGgKPdmE",
    "jupyter": {
     "source_hidden": true
    }
   },
   "outputs": [],
   "source": []
  },
  {
   "cell_type": "code",
   "execution_count": null,
   "metadata": {
    "colab": {},
    "colab_type": "code",
    "id": "w9pYaMhcOqYO",
    "jupyter": {
     "source_hidden": true
    }
   },
   "outputs": [],
   "source": [
    "df2.head()"
   ]
  },
  {
   "cell_type": "code",
   "execution_count": null,
   "metadata": {
    "colab": {},
    "colab_type": "code",
    "id": "s6Ee5j8wKGDK",
    "jupyter": {
     "source_hidden": true
    }
   },
   "outputs": [],
   "source": [
    "df2['units_per_area'] = df2['points_in_neighborhood'] / df2['neighborhood_acres_x']"
   ]
  },
  {
   "cell_type": "code",
   "execution_count": null,
   "metadata": {
    "colab": {},
    "colab_type": "code",
    "id": "e4sZoh0kOxh8",
    "jupyter": {
     "source_hidden": true
    }
   },
   "outputs": [],
   "source": [
    "df2.sort_values('units_per_area',ascending=False).head()\n",
    "summary_unit_density = df2.groupby(['neighbourhood_left'], as_index=False).mean().sort_values(['units_per_area'], ascending=False)\n"
   ]
  },
  {
   "cell_type": "code",
   "execution_count": null,
   "metadata": {
    "colab": {},
    "colab_type": "code",
    "id": "4wtEbl4-Pu1h",
    "jupyter": {
     "source_hidden": true
    }
   },
   "outputs": [],
   "source": [
    "summary_unit_density.head(10)"
   ]
  },
  {
   "cell_type": "code",
   "execution_count": null,
   "metadata": {
    "colab": {},
    "colab_type": "code",
    "id": "ThflAgMiXgGv",
    "jupyter": {
     "source_hidden": true
    }
   },
   "outputs": [],
   "source": [
    "summary_unit_density.to_csv('/content/drive/My Drive/Colab Notebooks/IFX_Final_HomelessnessLA/data_out/airbnb_density_la.csv')"
   ]
  },
  {
   "cell_type": "markdown",
   "metadata": {
    "colab_type": "text",
    "id": "WCtyA6zyIg1S"
   },
   "source": []
  },
  {
   "cell_type": "markdown",
   "metadata": {
    "colab_type": "text",
    "id": "qQhFsrasXBXG"
   },
   "source": [
    "# Export/saving\n",
    "- Use the convenience variable DATA_OUT and VIZ_OUT to store/save information"
   ]
  },
  {
   "cell_type": "code",
   "execution_count": null,
   "metadata": {
    "colab": {},
    "colab_type": "code",
    "id": "W-0BvzQzXDjH"
   },
   "outputs": [],
   "source": []
  }
 ],
 "metadata": {
  "colab": {
   "collapsed_sections": [
    "FcfNyQDIJLRf"
   ],
   "name": "rile_jupyter_boilerplate",
   "provenance": [],
   "toc_visible": true
  },
  "kernelspec": {
   "display_name": "Python 3",
   "language": "python",
   "name": "python3"
  },
  "language_info": {
   "codemirror_mode": {
    "name": "ipython",
    "version": 3
   },
   "file_extension": ".py",
   "mimetype": "text/x-python",
   "name": "python",
   "nbconvert_exporter": "python",
   "pygments_lexer": "ipython3",
   "version": "3.8.0-final"
  }
 },
 "nbformat": 4,
 "nbformat_minor": 4
}